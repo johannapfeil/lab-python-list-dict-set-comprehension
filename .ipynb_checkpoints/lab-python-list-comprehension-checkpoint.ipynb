{
 "cells": [
  {
   "cell_type": "markdown",
   "id": "25d7736c-ba17-4aff-b6bb-66eba20fbf4e",
   "metadata": {},
   "source": [
    "# Lab | List, Dict and Set Comprehension"
   ]
  },
  {
   "cell_type": "markdown",
   "id": "7dd3cbde-675a-4b81-92c3-f728846dbe06",
   "metadata": {},
   "source": [
    "## Exercise: Managing Customer Orders Optimized with Comprehension"
   ]
  },
  {
   "cell_type": "markdown",
   "id": "5d500160-2fb7-4777-b5e4-09d45ebaf328",
   "metadata": {},
   "source": [
    "In the previous exercise, you developed a program to manage customer orders and inventory. Now, let's take it a step further and incorporate comprehension into your code.\n",
    "\n",
    "Follow the steps below to complete the exercise:\n",
    "\n",
    "1. Review your code from the previous exercise and identify areas where you can apply comprehension to simplify and streamline your code. \n",
    "\n",
    "    - *Hint: Apply it to initialize inventory, updating the inventory and printing the updated inventory.*\n",
    "    \n",
    "    - For example, in initializing the inventory, we could have:\n",
    "    \n",
    "        ```python\n",
    "        def initialize_inventory(products):\n",
    "            inventory = {product: int(input(f\"Enter the quantity of {product}s available: \")) for product in products}\n",
    "            return inventory\n",
    "\n",
    "        ```\n",
    "<br>\n",
    "    \n",
    "    \n",
    "2. Modify the function get_customer_orders so it prompts the user to enter the number of customer orders and gathers the product names using a loop and user input. Use comprehension.\n",
    "\n",
    "3. Add a new function to calculate the total price of the customer order. For each product in customer_orders, prompt the user to enter the price of that product. Use comprehension to calculate the total price. Note: assume that the user can only have 1 unit of each product.\n",
    "\n",
    "4. Modify the update_inventory function to remove the product from the inventory if its quantity becomes zero after fulfilling the customer orders. Use comprehension to filter out the products with a quantity of zero from the inventory.\n",
    "\n",
    "5. Print the total price of the customer order.\n",
    "\n",
    "Your code should produce output similar to the following:\n",
    "\n",
    "```python\n",
    "Enter the quantity of t-shirts available:  5\n",
    "Enter the quantity of mugs available:  4\n",
    "Enter the quantity of hats available:  3\n",
    "Enter the quantity of books available:  2\n",
    "Enter the quantity of keychains available:  1\n",
    "Enter the number of customer orders:  2\n",
    "Enter the name of a product that a customer wants to order:  hat\n",
    "Enter the name of a product that a customer wants to order:  keychain\n",
    "\n",
    "Order Statistics:\n",
    "Total Products Ordered: 2\n",
    "Percentage of Unique Products Ordered: 40.0\n",
    "\n",
    "Updated Inventory:\n",
    "t-shirt: 5\n",
    "mug: 4\n",
    "hat: 2\n",
    "book: 2\n",
    "Enter the price of keychain:  5\n",
    "Enter the price of hat:  10\n",
    "Total Price: 15.0\n",
    "\n",
    "```\n"
   ]
  },
  {
   "cell_type": "markdown",
   "id": "fb971398",
   "metadata": {},
   "source": [
    "## Initialize Inventory"
   ]
  },
  {
   "cell_type": "code",
   "execution_count": 1,
   "id": "00371ff1",
   "metadata": {},
   "outputs": [],
   "source": [
    "# Ask the user to specify the quantity of each product\n",
    "def initialize_inventory(products):\n",
    "    inventory = {product: robust_inventory(product) for product in products}\n",
    "    return inventory\n",
    "    \n",
    "def robust_inventory(product):\n",
    "    while True:\n",
    "        quantity = input(f'Enter the quantity of {product}s available: ')\n",
    "        \n",
    "        # Check whether the input is valid\n",
    "        if quantity.isdigit() == False: print('Please enter a valid number.')\n",
    "        \n",
    "        else:\n",
    "            return int(quantity)"
   ]
  },
  {
   "cell_type": "markdown",
   "id": "0e73af94",
   "metadata": {},
   "source": [
    "## Customer selection"
   ]
  },
  {
   "cell_type": "code",
   "execution_count": 2,
   "id": "f504d0b5",
   "metadata": {},
   "outputs": [],
   "source": [
    "# Ask the user to specify three products\n",
    "def get_customer_orders(products):\n",
    "    # Make a set out of the order list\n",
    "    return set(robust_customer_orders(products))\n",
    "\n",
    "def robust_customer_orders(products):\n",
    "    orders = []\n",
    "    \n",
    "    while True:\n",
    "        number_of_products = input('Enter the number of customer orders: ')\n",
    "        \n",
    "        if not number_of_products.isdigit(): \n",
    "            print('Please enter a valid number.')\n",
    "            continue\n",
    "    \n",
    "        if int(number_of_products) > len(inventory):\n",
    "            print(f'Not possible. Only {len(inventory)} product(s) in the inventory.')\n",
    "            continue\n",
    "        \n",
    "        for i in range(int(number_of_products)):                \n",
    "                \n",
    "            while True:\n",
    "                ordered_product = input(f'Enter the name of product {i+1} that a customer wants to order: ')\n",
    "                    \n",
    "                if ordered_product not in products: print('There is a typo. Try again.')\n",
    "        \n",
    "                else:\n",
    "                    orders.append(ordered_product)\n",
    "                    break\n",
    "        break\n",
    "            \n",
    "    return orders"
   ]
  },
  {
   "cell_type": "markdown",
   "id": "d8119230",
   "metadata": {},
   "source": [
    "## Percentage ordered"
   ]
  },
  {
   "cell_type": "code",
   "execution_count": 3,
   "id": "63e716a7",
   "metadata": {},
   "outputs": [],
   "source": [
    "def calculate_order_statistics(customer_orders, products):\n",
    "    number_products = len(customer_orders)\n",
    "    percentage_ordered = len(customer_orders) / len(products) * 100\n",
    "    return (number_products, percentage_ordered)\n",
    "\n",
    "def print_order_statistics(order_statistics):\n",
    "    print(f'''\\nOrder Statistics:\n",
    "Total products ordered: {order_statistics[0]}\n",
    "Percentage of products ordered: {order_statistics[1]:.0f}%''')"
   ]
  },
  {
   "cell_type": "markdown",
   "id": "22a821d9",
   "metadata": {},
   "source": [
    "## Inventory update"
   ]
  },
  {
   "cell_type": "code",
   "execution_count": 4,
   "id": "95d8626d",
   "metadata": {},
   "outputs": [],
   "source": [
    "def update_inventory(customer_orders, inventory):      \n",
    "    return {product: inventory[product] - 1 for product in customer_orders if product in inventory} \n",
    "\n",
    "def print_updated_inventory(inventory):\n",
    "    print('\\nUpdated Inventory:')\n",
    "    print('\\n'.join([f'{product}: {quantity}'for product, quantity in inventory.items()]))"
   ]
  },
  {
   "cell_type": "markdown",
   "id": "87b8eb4f",
   "metadata": {},
   "source": [
    "## Price"
   ]
  },
  {
   "cell_type": "code",
   "execution_count": 5,
   "id": "5823a0cc",
   "metadata": {},
   "outputs": [],
   "source": [
    "def product_price(customer_orders):\n",
    "    prices = []\n",
    "    \n",
    "    for product in customer_orders:\n",
    "        \n",
    "        while True:\n",
    "            price = input(f'Enter the price of {product}: ')\n",
    "            \n",
    "            try:\n",
    "                price = float(price)\n",
    "                prices.append(price)\n",
    "                break\n",
    "                \n",
    "            except ValueError:\n",
    "                 print('Please enter a valid number.')               \n",
    "    \n",
    "    return sum(prices)\n",
    "\n",
    "def print_price(product_price):\n",
    "    print(f'Total Price: {product_price:.1f}')"
   ]
  },
  {
   "cell_type": "markdown",
   "id": "e394dfa4",
   "metadata": {},
   "source": [
    "## Run"
   ]
  },
  {
   "cell_type": "code",
   "execution_count": 6,
   "id": "8e753332",
   "metadata": {},
   "outputs": [
    {
     "name": "stdout",
     "output_type": "stream",
     "text": [
      "Enter the quantity of t-shirts available: 2\n",
      "Enter the quantity of mugs available: 1\n",
      "Enter the quantity of hats available: 2\n",
      "Enter the quantity of books available: 3\n",
      "Enter the quantity of keychains available: 4\n",
      "Enter the number of customer orders: 2\n",
      "Enter the name of product 1 that a customer wants to order: mug\n",
      "Enter the name of product 2 that a customer wants to order: hat\n",
      "\n",
      "Order Statistics:\n",
      "Total products ordered: 2\n",
      "Percentage of products ordered: 40%\n",
      "\n",
      "Updated Inventory:\n",
      "mug: 0\n",
      "hat: 1\n",
      "Enter the price of mug: 2\n",
      "Enter the price of hat: 1\n",
      "Total Price: 3.0\n"
     ]
    }
   ],
   "source": [
    "products = ['t-shirt', 'mug', 'hat', 'book', 'keychain']\n",
    "\n",
    "inventory = initialize_inventory(products)\n",
    "customer_orders = get_customer_orders(products)\n",
    "\n",
    "order_statistics = calculate_order_statistics(customer_orders, products)\n",
    "print_order_statistics(order_statistics)\n",
    "\n",
    "updated_inventory = update_inventory(customer_orders, inventory)\n",
    "print_updated_inventory(updated_inventory)\n",
    "\n",
    "product_price = product_price(customer_orders)\n",
    "print_price(product_price)"
   ]
  },
  {
   "cell_type": "code",
   "execution_count": null,
   "id": "8b269350",
   "metadata": {},
   "outputs": [],
   "source": []
  }
 ],
 "metadata": {
  "kernelspec": {
   "display_name": "Python 3 (ipykernel)",
   "language": "python",
   "name": "python3"
  },
  "language_info": {
   "codemirror_mode": {
    "name": "ipython",
    "version": 3
   },
   "file_extension": ".py",
   "mimetype": "text/x-python",
   "name": "python",
   "nbconvert_exporter": "python",
   "pygments_lexer": "ipython3",
   "version": "3.9.13"
  }
 },
 "nbformat": 4,
 "nbformat_minor": 5
}
